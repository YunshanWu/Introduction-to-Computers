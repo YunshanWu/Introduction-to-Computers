{
  "nbformat": 4,
  "nbformat_minor": 0,
  "metadata": {
    "colab": {
      "name": "0509.ipynb",
      "provenance": [],
      "authorship_tag": "ABX9TyMHHYEK5lvQVAiYfs/lzzVz",
      "include_colab_link": true
    },
    "kernelspec": {
      "name": "python3",
      "display_name": "Python 3"
    },
    "language_info": {
      "name": "python"
    }
  },
  "cells": [
    {
      "cell_type": "markdown",
      "metadata": {
        "id": "view-in-github",
        "colab_type": "text"
      },
      "source": [
        "<a href=\"https://colab.research.google.com/github/YunshanWu/Introduction-to-Computers/blob/main/0509.ipynb\" target=\"_parent\"><img src=\"https://colab.research.google.com/assets/colab-badge.svg\" alt=\"Open In Colab\"/></a>"
      ]
    },
    {
      "cell_type": "code",
      "execution_count": null,
      "metadata": {
        "id": "1EfgzPvotAJm",
        "colab": {
          "base_uri": "https://localhost:8080/"
        },
        "outputId": "da3bf55f-ef5c-4327-dfae-c33ef1ad8965"
      },
      "outputs": [
        {
          "output_type": "stream",
          "name": "stdout",
          "text": [
            "123\n"
          ]
        }
      ],
      "source": [
        "print('123')"
      ]
    },
    {
      "cell_type": "code",
      "source": [
        "T = float(input('請輸入你的體溫'))\n",
        "if T >=37.5:\n",
        "  print('體溫過高!')\n",
        "elif T >= 37 and T < 37.4:\n",
        "  print('體溫略高!')\n",
        "elif T <= 36.9 and T >= 34:\n",
        "  print('體溫正常!')\n",
        "else:\n",
        "  print('體溫異常，請重新量測!')"
      ],
      "metadata": {
        "id": "NRLrCDykuo9R",
        "colab": {
          "base_uri": "https://localhost:8080/"
        },
        "outputId": "91a3ddfb-54ff-45cd-f97e-96a5247593eb"
      },
      "execution_count": null,
      "outputs": [
        {
          "output_type": "stream",
          "name": "stdout",
          "text": [
            "請輸入你的體溫33.9\n",
            "體溫異常，請重新量測!\n"
          ]
        }
      ]
    },
    {
      "cell_type": "code",
      "source": [
        "grade = int(input('請輸入成績'))\n",
        "if grade >= 90:\n",
        "  print('A')\n",
        "elif grade >= 80:\n",
        "  print('B')\n",
        "elif grade >= 70:\n",
        "  print('C')\n",
        "elif grade >= 60:\n",
        "  print('D')\n",
        "else:\n",
        "  print('E')"
      ],
      "metadata": {
        "id": "kMYx_dvpupAJ",
        "colab": {
          "base_uri": "https://localhost:8080/"
        },
        "outputId": "a8d64698-5f16-4e38-9bde-50abfae9f3b3"
      },
      "execution_count": null,
      "outputs": [
        {
          "output_type": "stream",
          "name": "stdout",
          "text": [
            "請輸入成績50\n",
            "E\n"
          ]
        }
      ]
    },
    {
      "cell_type": "code",
      "source": [
        "money = int(input('請輸入購物金額:'))\n",
        "if money >= 10000:\n",
        "  if money >= 100000:\n",
        "    print('八折', money*0.8, end = '元\\n')\n",
        "  elif money >= 50000:\n",
        "    print('八五折', money*0.85, end = '元\\n')\n",
        "  elif money >= 30000:\n",
        "    print('九折', money*0.9, end = '元\\n')\n",
        "  elif money >= 10000:\n",
        "    print('九五折', money*0.95, end = '元\\n')\n",
        "else:\n",
        "  print('沒打折', money, end = '元\\n')"
      ],
      "metadata": {
        "id": "xpAkyXKsupCX",
        "colab": {
          "base_uri": "https://localhost:8080/"
        },
        "outputId": "0bdeebfe-b371-4530-c373-f532df20fab0"
      },
      "execution_count": null,
      "outputs": [
        {
          "output_type": "stream",
          "name": "stdout",
          "text": [
            "請輸入購物金額:50000\n",
            "八五折 42500.0元\n"
          ]
        }
      ]
    },
    {
      "cell_type": "code",
      "source": [
        "month = int(input('請輸入月份'))\n",
        "if (month >= 3 and month <= 5):  \n",
        "  print(str(month) + '月是春天!')\n",
        "elif (month >= 6 and month <= 8):\n",
        "  print(str(month)+ '月是夏天!')\n",
        "elif (month >= 9 and month <= 11):\n",
        "  print(str(month) + '月是秋天!')\n",
        "elif (month > 11 and month < 13 or month >= 1 and month <= 2):\n",
        "  print(str(month) + '月是冬天!')\n",
        "else:\n",
        "  print('月份不再範圍內!')"
      ],
      "metadata": {
        "id": "MGQICiY8upEw",
        "colab": {
          "base_uri": "https://localhost:8080/"
        },
        "outputId": "abe3c9c7-0c96-4ca6-af0c-c57bf68f491f"
      },
      "execution_count": 54,
      "outputs": [
        {
          "output_type": "stream",
          "name": "stdout",
          "text": [
            "請輸入月份13\n",
            "月份不再範圍內!\n"
          ]
        }
      ]
    },
    {
      "cell_type": "code",
      "source": [
        "income = int(input('請輸入今年收入淨額:'))\n",
        "if income >= 2000000:\n",
        "  print('付稅金額:', income*0.3, end = '元\\n')\n",
        "elif income >= 1000000:\n",
        "  print('付稅金額:', income*0.21, end = '元\\n')\n",
        "elif income >= 600000:\n",
        "  print('付稅金額:', income*0.13, end = '元\\n')\n",
        "elif income >= 300000:\n",
        "  print('付稅金額:', income*0.06, end = '元\\n')\n",
        "else: \n",
        "  print('付稅金額:', income*0, end = '元\\n')\n"
      ],
      "metadata": {
        "id": "q1XV61i6upG3",
        "colab": {
          "base_uri": "https://localhost:8080/"
        },
        "outputId": "a05da0aa-09c3-43c8-9452-e89778277ef4"
      },
      "execution_count": 52,
      "outputs": [
        {
          "output_type": "stream",
          "name": "stdout",
          "text": [
            "請輸入今年收入淨額:2000000\n",
            "付稅金額: 600000.0元\n"
          ]
        }
      ]
    }
  ]
}